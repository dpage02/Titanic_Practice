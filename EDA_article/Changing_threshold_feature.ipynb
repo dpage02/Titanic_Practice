{
 "cells": [
  {
   "cell_type": "code",
   "execution_count": 2,
   "metadata": {},
   "outputs": [],
   "source": [
    "# import dependencies\n",
    "import pandas as pd\n",
    "import numpy as np\n",
    "import statsmodels.api as sm\n",
    "from sklearn.model_selection import train_test_split\n",
    "from sklearn.linear_model import LogisticRegression\n",
    "from sklearn import metrics, svm \n",
    "import matplotlib.pyplot as plt\n",
    "import seaborn as sns\n",
    "%matplotlib inline"
   ]
  },
  {
   "cell_type": "code",
   "execution_count": 3,
   "metadata": {},
   "outputs": [
    {
     "data": {
      "text/html": [
       "<div>\n",
       "<style scoped>\n",
       "    .dataframe tbody tr th:only-of-type {\n",
       "        vertical-align: middle;\n",
       "    }\n",
       "\n",
       "    .dataframe tbody tr th {\n",
       "        vertical-align: top;\n",
       "    }\n",
       "\n",
       "    .dataframe thead th {\n",
       "        text-align: right;\n",
       "    }\n",
       "</style>\n",
       "<table border=\"1\" class=\"dataframe\">\n",
       "  <thead>\n",
       "    <tr style=\"text-align: right;\">\n",
       "      <th></th>\n",
       "      <th>Unnamed: 0</th>\n",
       "      <th>PassengerId</th>\n",
       "      <th>Survived</th>\n",
       "      <th>Pclass</th>\n",
       "      <th>Name</th>\n",
       "      <th>Sex</th>\n",
       "      <th>Age</th>\n",
       "      <th>SibSp</th>\n",
       "      <th>Parch</th>\n",
       "      <th>Ticket</th>\n",
       "      <th>Fare</th>\n",
       "      <th>Cabin</th>\n",
       "      <th>Embarked</th>\n",
       "      <th>Age_imp_median</th>\n",
       "      <th>Age_imp_mean</th>\n",
       "    </tr>\n",
       "  </thead>\n",
       "  <tbody>\n",
       "    <tr>\n",
       "      <th>0</th>\n",
       "      <td>0</td>\n",
       "      <td>1</td>\n",
       "      <td>0</td>\n",
       "      <td>3</td>\n",
       "      <td>Braund, Mr. Owen Harris</td>\n",
       "      <td>male</td>\n",
       "      <td>22.0</td>\n",
       "      <td>1</td>\n",
       "      <td>0</td>\n",
       "      <td>A/5 21171</td>\n",
       "      <td>7.2500</td>\n",
       "      <td>NaN</td>\n",
       "      <td>S</td>\n",
       "      <td>22.0</td>\n",
       "      <td>22.0</td>\n",
       "    </tr>\n",
       "    <tr>\n",
       "      <th>1</th>\n",
       "      <td>1</td>\n",
       "      <td>2</td>\n",
       "      <td>1</td>\n",
       "      <td>1</td>\n",
       "      <td>Cumings, Mrs. John Bradley (Florence Briggs Th...</td>\n",
       "      <td>female</td>\n",
       "      <td>38.0</td>\n",
       "      <td>1</td>\n",
       "      <td>0</td>\n",
       "      <td>PC 17599</td>\n",
       "      <td>71.2833</td>\n",
       "      <td>C85</td>\n",
       "      <td>C</td>\n",
       "      <td>38.0</td>\n",
       "      <td>38.0</td>\n",
       "    </tr>\n",
       "  </tbody>\n",
       "</table>\n",
       "</div>"
      ],
      "text/plain": [
       "   Unnamed: 0  PassengerId  Survived  Pclass  \\\n",
       "0           0            1         0       3   \n",
       "1           1            2         1       1   \n",
       "\n",
       "                                                Name     Sex   Age  SibSp  \\\n",
       "0                            Braund, Mr. Owen Harris    male  22.0      1   \n",
       "1  Cumings, Mrs. John Bradley (Florence Briggs Th...  female  38.0      1   \n",
       "\n",
       "   Parch     Ticket     Fare Cabin Embarked  Age_imp_median  Age_imp_mean  \n",
       "0      0  A/5 21171   7.2500   NaN        S            22.0          22.0  \n",
       "1      0   PC 17599  71.2833   C85        C            38.0          38.0  "
      ]
     },
     "execution_count": 3,
     "metadata": {},
     "output_type": "execute_result"
    }
   ],
   "source": [
    "# loading data\n",
    "file_to_load = \"../Resources/full_titanic.csv\"\n",
    "\n",
    "\n",
    "no_touchy = pd.read_csv(file_to_load)\n",
    "full_data = no_touchy\n",
    "full_data.head(2)"
   ]
  },
  {
   "cell_type": "code",
   "execution_count": 4,
   "metadata": {},
   "outputs": [
    {
     "name": "stdout",
     "output_type": "stream",
     "text": [
      "Optimization terminated successfully.\n",
      "         Current function value: 0.613518\n",
      "         Iterations 6\n"
     ]
    }
   ],
   "source": [
    "# defining the dependent and independent variables \n",
    "Xtrain = full_data[['SibSp','Parch','Fare','Age_imp_median']]\n",
    "ytrain = full_data['Survived']\n",
    "\n",
    "# building the model and fitting the data\n",
    "log_reg = sm.Logit(ytrain,Xtrain).fit()"
   ]
  },
  {
   "cell_type": "code",
   "execution_count": 5,
   "metadata": {},
   "outputs": [
    {
     "name": "stdout",
     "output_type": "stream",
     "text": [
      "0.1\n"
     ]
    },
    {
     "data": {
      "image/png": "[encoded data removed]",
      "text/plain": [
       "<Figure size 432x288 with 2 Axes>"
      ]
     },
     "metadata": {
      "needs_background": "light"
     },
     "output_type": "display_data"
    },
    {
     "name": "stdout",
     "output_type": "stream",
     "text": [
      "0.2\n"
     ]
    },
    {
     "data": {
      "image/png": "[encoded data removed]",
      "text/plain": [
       "<Figure size 432x288 with 2 Axes>"
      ]
     },
     "metadata": {
      "needs_background": "light"
     },
     "output_type": "display_data"
    },
    {
     "name": "stdout",
     "output_type": "stream",
     "text": [
      "0.3\n"
     ]
    },
    {
     "data": {
      "image/png": "[encoded data removed]",
      "text/plain": [
       "<Figure size 432x288 with 2 Axes>"
      ]
     },
     "metadata": {
      "needs_background": "light"
     },
     "output_type": "display_data"
    },
    {
     "name": "stdout",
     "output_type": "stream",
     "text": [
      "0.4\n"
     ]
    },
    {
     "data": {
      "image/png": "[encoded data removed]",
      "text/plain": [
       "<Figure size 432x288 with 2 Axes>"
      ]
     },
     "metadata": {
      "needs_background": "light"
     },
     "output_type": "display_data"
    },
    {
     "name": "stdout",
     "output_type": "stream",
     "text": [
      "0.5\n"
     ]
    },
    {
     "data": {
      "image/png": "[encoded data removed]",
      "text/plain": [
       "<Figure size 432x288 with 2 Axes>"
      ]
     },
     "metadata": {
      "needs_background": "light"
     },
     "output_type": "display_data"
    },
    {
     "name": "stdout",
     "output_type": "stream",
     "text": [
      "0.6\n"
     ]
    },
    {
     "data": {
      "image/png": "[encoded data removed]",
      "text/plain": [
       "<Figure size 432x288 with 2 Axes>"
      ]
     },
     "metadata": {
      "needs_background": "light"
     },
     "output_type": "display_data"
    },
    {
     "name": "stdout",
     "output_type": "stream",
     "text": [
      "0.7\n"
     ]
    },
    {
     "data": {
      "image/png": "[encoded data removed]",
      "text/plain": [
       "<Figure size 432x288 with 2 Axes>"
      ]
     },
     "metadata": {
      "needs_background": "light"
     },
     "output_type": "display_data"
    },
    {
     "name": "stdout",
     "output_type": "stream",
     "text": [
      "0.8\n"
     ]
    },
    {
     "data": {
      "image/png": "[encoded data removed]",
      "text/plain": [
       "<Figure size 432x288 with 2 Axes>"
      ]
     },
     "metadata": {
      "needs_background": "light"
     },
     "output_type": "display_data"
    },
    {
     "name": "stdout",
     "output_type": "stream",
     "text": [
      "0.9\n"
     ]
    },
    {
     "data": {
      "image/png": "[encoded data removed]",
      "text/plain": [
       "<Figure size 432x288 with 2 Axes>"
      ]
     },
     "metadata": {
      "needs_background": "light"
     },
     "output_type": "display_data"
    }
   ],
   "source": [
    "for threshold in range(1,10):\n",
    "    threshold = round(threshold * .1,1)\n",
    "    print(threshold)\n",
    "    # print(log_reg.pred_table(threshold))\n",
    "    log_reg.pred_table(threshold)\n",
    "    class_names=[0,1] # name  of classes\n",
    "    fig, ax = plt.subplots()\n",
    "    tick_marks = np.arange(len(class_names))\n",
    "    plt.xticks(tick_marks, class_names)\n",
    "    plt.yticks(tick_marks, class_names)\n",
    "    # create heatmap\n",
    "    sns.heatmap(pd.DataFrame(log_reg.pred_table(threshold)), annot=True, cmap=\"YlGnBu\" ,fmt='g')\n",
    "    ax.xaxis.set_label_position(\"top\")\n",
    "    plt.tight_layout()\n",
    "    plt.title('Confusion matrix', y=1.1)\n",
    "    plt.ylabel('Actual label')\n",
    "    plt.xlabel('Predicted label')\n",
    "    plt.show()"
   ]
  },
  {
   "cell_type": "code",
   "execution_count": 42,
   "metadata": {},
   "outputs": [
    {
     "name": "stdout",
     "output_type": "stream",
     "text": [
      "0.3838383838383838\n"
     ]
    },
    {
     "data": {
      "text/plain": [
       "891"
      ]
     },
     "execution_count": 42,
     "metadata": {},
     "output_type": "execute_result"
    }
   ],
   "source": [
    "print(342/(342+549))\n",
    "342 +549"
   ]
  },
  {
   "cell_type": "code",
   "execution_count": 32,
   "metadata": {},
   "outputs": [
    {
     "data": {
      "text/html": [
       "<div>\n",
       "<style scoped>\n",
       "    .dataframe tbody tr th:only-of-type {\n",
       "        vertical-align: middle;\n",
       "    }\n",
       "\n",
       "    .dataframe tbody tr th {\n",
       "        vertical-align: top;\n",
       "    }\n",
       "\n",
       "    .dataframe thead th {\n",
       "        text-align: right;\n",
       "    }\n",
       "</style>\n",
       "<table border=\"1\" class=\"dataframe\">\n",
       "  <thead>\n",
       "    <tr style=\"text-align: right;\">\n",
       "      <th></th>\n",
       "      <th>Unnamed: 0</th>\n",
       "      <th>PassengerId</th>\n",
       "      <th>Survived</th>\n",
       "      <th>Pclass</th>\n",
       "      <th>Name</th>\n",
       "      <th>Sex</th>\n",
       "      <th>Age</th>\n",
       "      <th>SibSp</th>\n",
       "      <th>Parch</th>\n",
       "      <th>Ticket</th>\n",
       "      <th>Fare</th>\n",
       "      <th>Cabin</th>\n",
       "      <th>Embarked</th>\n",
       "      <th>Age_imp_median</th>\n",
       "      <th>Age_imp_mean</th>\n",
       "      <th>Sex_binary</th>\n",
       "    </tr>\n",
       "  </thead>\n",
       "  <tbody>\n",
       "    <tr>\n",
       "      <th>0</th>\n",
       "      <td>0</td>\n",
       "      <td>1</td>\n",
       "      <td>0</td>\n",
       "      <td>3</td>\n",
       "      <td>Braund, Mr. Owen Harris</td>\n",
       "      <td>male</td>\n",
       "      <td>22.0</td>\n",
       "      <td>1</td>\n",
       "      <td>0</td>\n",
       "      <td>A/5 21171</td>\n",
       "      <td>7.25</td>\n",
       "      <td>NaN</td>\n",
       "      <td>S</td>\n",
       "      <td>22.0</td>\n",
       "      <td>22.0</td>\n",
       "      <td>0</td>\n",
       "    </tr>\n",
       "  </tbody>\n",
       "</table>\n",
       "</div>"
      ],
      "text/plain": [
       "   Unnamed: 0  PassengerId  Survived  Pclass                     Name   Sex  \\\n",
       "0           0            1         0       3  Braund, Mr. Owen Harris  male   \n",
       "\n",
       "    Age  SibSp  Parch     Ticket  Fare Cabin Embarked  Age_imp_median  \\\n",
       "0  22.0      1      0  A/5 21171  7.25   NaN        S            22.0   \n",
       "\n",
       "   Age_imp_mean  Sex_binary  \n",
       "0          22.0           0  "
      ]
     },
     "execution_count": 32,
     "metadata": {},
     "output_type": "execute_result"
    }
   ],
   "source": [
    "# full_data['Sex_binary'] = full_data['Sex'].replace(['male'],0)\n",
    "# full_data['Sex_binary'] = full_data['Sex'].replace('female',1)\n",
    "\n",
    "full_data['Sex_binary'] = [0 if x == 'male' else 1 for x in full_data['Sex']]\n",
    "\n",
    "full_data.head(1)"
   ]
  },
  {
   "cell_type": "code",
   "execution_count": 34,
   "metadata": {},
   "outputs": [
    {
     "name": "stdout",
     "output_type": "stream",
     "text": [
      "Optimization terminated successfully.\n",
      "         Current function value: 0.489084\n",
      "         Iterations 6\n"
     ]
    },
    {
     "data": {
      "text/plain": [
       "Text(0.5, 257.44, 'Predicted label')"
      ]
     },
     "execution_count": 34,
     "metadata": {},
     "output_type": "execute_result"
    },
    {
     "data": {
      "image/png": "[encoded data removed]",
      "text/plain": [
       "<Figure size 432x288 with 2 Axes>"
      ]
     },
     "metadata": {
      "needs_background": "light"
     },
     "output_type": "display_data"
    }
   ],
   "source": [
    "# defining the dependent and independent variables \n",
    "Xtrain = full_data[['SibSp','Parch','Fare','Age_imp_median','Sex_binary']]\n",
    "ytrain = full_data['Survived']\n",
    "\n",
    "# building the model and fitting the data\n",
    "log_reg = sm.Logit(ytrain,Xtrain).fit()\n",
    "\n",
    "log_reg.pred_table(threshold=.5)\n",
    "\n",
    "class_names=[0,1] # name  of classes\n",
    "fig, ax = plt.subplots()\n",
    "tick_marks = np.arange(len(class_names))\n",
    "plt.xticks(tick_marks, class_names)\n",
    "plt.yticks(tick_marks, class_names)\n",
    "# create heatmap\n",
    "sns.heatmap(pd.DataFrame(log_reg.pred_table(threshold)), annot=True, cmap=\"YlGnBu\" ,fmt='g')\n",
    "ax.xaxis.set_label_position(\"top\")\n",
    "plt.tight_layout()\n",
    "plt.title('Confusion matrix', y=1.1)\n",
    "plt.ylabel('Actual label')\n",
    "plt.xlabel('Predicted label')"
   ]
  },
  {
   "cell_type": "code",
   "execution_count": 38,
   "metadata": {},
   "outputs": [
    {
     "name": "stdout",
     "output_type": "stream",
     "text": [
      "Accuracy: 0.6610549943883277\n",
      "Precision: 0.9\n",
      "Recall: 0.13157894736842105\n"
     ]
    }
   ],
   "source": [
    "print(\"Accuracy:\",(544+45)/(544+5+297+45))\n",
    "print(\"Precision:\",45/(50))\n",
    "print(\"Recall:\",45/(45+297))"
   ]
  },
  {
   "cell_type": "code",
   "execution_count": 39,
   "metadata": {},
   "outputs": [
    {
     "name": "stdout",
     "output_type": "stream",
     "text": [
      "Optimization terminated successfully.\n",
      "         Current function value: 0.510904\n",
      "         Iterations 6\n"
     ]
    },
    {
     "data": {
      "text/plain": [
       "Text(0.5, 257.44, 'Predicted label')"
      ]
     },
     "execution_count": 39,
     "metadata": {},
     "output_type": "execute_result"
    },
    {
     "data": {
      "image/png": "[encoded data removed]",
      "text/plain": [
       "<Figure size 432x288 with 2 Axes>"
      ]
     },
     "metadata": {
      "needs_background": "light"
     },
     "output_type": "display_data"
    }
   ],
   "source": [
    "# defining the dependent and independent variables \n",
    "Xtrain = full_data[['SibSp','Parch','Fare','Age_imp_median','Survived']]\n",
    "ytrain = full_data['Sex_binary']\n",
    "\n",
    "# building the model and fitting the data\n",
    "log_reg = sm.Logit(ytrain,Xtrain).fit()\n",
    "\n",
    "log_reg.pred_table(threshold=.5)\n",
    "\n",
    "class_names=[0,1] # name  of classes\n",
    "fig, ax = plt.subplots()\n",
    "tick_marks = np.arange(len(class_names))\n",
    "plt.xticks(tick_marks, class_names)\n",
    "plt.yticks(tick_marks, class_names)\n",
    "# create heatmap\n",
    "sns.heatmap(pd.DataFrame(log_reg.pred_table(threshold)), annot=True, cmap=\"YlGnBu\" ,fmt='g')\n",
    "ax.xaxis.set_label_position(\"top\")\n",
    "plt.tight_layout()\n",
    "plt.title('Confusion matrix', y=1.1)\n",
    "plt.ylabel('Actual label')\n",
    "plt.xlabel('Predicted label')"
   ]
  },
  {
   "cell_type": "code",
   "execution_count": 6,
   "metadata": {},
   "outputs": [
    {
     "data": {
      "text/plain": [
       "array([0.29650147, 0.46388418, 0.34929492, 0.40259369, 0.29187862,\n",
       "       0.33817925, 0.34693507, 0.35031947, 0.39945049, 0.44967699,\n",
       "       0.48427841, 0.22748442, 0.39122481, 0.38718015, 0.43335633,\n",
       "       0.20910854, 0.30674494, 0.3573691 , 0.28288519, 0.33305576,\n",
       "       0.36543584, 0.31768183, 0.42689833, 0.45819789, 0.31103617,\n",
       "       0.39472884, 0.33305576, 0.97006975, 0.33576868, 0.33583766,\n",
       "       0.33898424, 0.82536428, 0.33523203, 0.14698331, 0.58763706,\n",
       "       0.34923225, 0.33307314, 0.38419643, 0.29048577, 0.36521865,\n",
       "       0.20497392, 0.31954324, 0.33583766, 0.62769434, 0.39753622,\n",
       "       0.33647877, 0.29153293, 0.33523203, 0.24590891, 0.36609064,\n",
       "       0.31720934, 0.38309504, 0.40879887, 0.32696801, 0.33679153,\n",
       "       0.45819789, 0.39505139, 0.32979288, 0.55118728, 0.26770518,\n",
       "       0.37363031, 0.59035046, 0.46883516, 0.38755927, 0.422496  ,\n",
       "       0.30990192, 0.340069  , 0.39878228, 0.1733076 , 0.21351715,\n",
       "       0.32042727, 0.23969838, 0.67866364, 0.29980631, 0.52626268,\n",
       "       0.35488012, 0.33583766, 0.33647877, 0.66817623, 0.34168426,\n",
       "       0.38138309, 0.33590029, 0.33538775, 0.51212815, 0.4236767 ,\n",
       "       0.15123839, 0.52381399, 0.33647877, 0.966433  , 0.36340951,\n",
       "       0.32990093, 0.39035633, 0.36125896, 0.36587253, 0.16634444,\n",
       "       0.33647877, 0.18900697, 0.64372743, 0.38083041, 0.29526107,\n",
       "       0.33583766, 0.33583766, 0.71306393, 0.30665471, 0.16201985,\n",
       "       0.33583766, 0.38243478, 0.33533584, 0.27329425, 0.32589935,\n",
       "       0.39586477, 0.37572455, 0.37721608, 0.31933631, 0.44177774,\n",
       "       0.38364559, 0.12532642, 0.30680766, 0.98189219, 0.33554401,\n",
       "       0.51304275, 0.33647877, 0.32088394, 0.32738535, 0.48332315,\n",
       "       0.37905302, 0.33523203, 0.35950368, 0.33893058, 0.23105212,\n",
       "       0.30365868, 0.38679656, 0.18707608, 0.32696801, 0.37801567,\n",
       "       0.40115647, 0.52781285, 0.38843761, 0.42506861, 0.68244108,\n",
       "       0.41077999, 0.37590391, 0.31799526, 0.39250854, 0.42099886,\n",
       "       0.46668379, 0.34205395, 0.46573972, 0.39842279, 0.26868495,\n",
       "       0.21812593, 0.56014423, 0.18343758, 0.32197083, 0.33341798,\n",
       "       0.43185163, 0.4183288 , 0.323389  , 0.33903127, 0.10613834,\n",
       "       0.286866  , 0.29093357, 0.34865999, 0.41534002, 0.35686845,\n",
       "       0.57448071, 0.57146169, 0.31177924, 0.41435437, 0.55566259,\n",
       "       0.2347097 , 0.29429884, 0.48056001, 0.38364559, 0.25235066,\n",
       "       0.34474526, 0.21322326, 0.27980655, 0.34388784, 0.25619006,\n",
       "       0.10613834, 0.36618755, 0.29144606, 0.52339874, 0.61683597,\n",
       "       0.5256157 , 0.29153293, 0.30202481, 0.24028266, 0.28521107,\n",
       "       0.33065348, 0.42059413, 0.31779266, 0.53493557, 0.31297366,\n",
       "       0.73353417, 0.33523203, 0.26996084, 0.33523203, 0.38500168,\n",
       "       0.34253661, 0.10613834, 0.29201315, 0.22925445, 0.40541513,\n",
       "       0.55671063, 0.26896909, 0.39657451, 0.41840451, 0.3528058 ,\n",
       "       0.35911038, 0.34411635, 0.373721  , 0.34388784, 0.26263025,\n",
       "       0.69949446, 0.3425959 , 0.25195825, 0.61632265, 0.33345624,\n",
       "       0.41976525, 0.36419696, 0.204241  , 0.33583766, 0.55082363,\n",
       "       0.38292276, 0.40928719, 0.38417247, 0.42782577, 0.21322326,\n",
       "       0.54270885, 0.32876927, 0.18312534, 0.31649172, 0.37403389,\n",
       "       0.33440214, 0.23757128, 0.60740737, 0.40928719, 0.32118182,\n",
       "       0.28752498, 0.29153293, 0.340069  , 0.37317608, 0.32003493,\n",
       "       0.4203413 , 0.35541348, 0.43629622, 0.40807124, 0.18814402,\n",
       "       0.33315923, 0.28509977, 0.20734566, 0.28171173, 0.34229076,\n",
       "       0.40363322, 0.6562401 , 0.67335004, 0.9997984 , 0.28826003,\n",
       "       0.33523203, 0.32943824, 0.42281493, 0.23428073, 0.33523203,\n",
       "       0.29520468, 0.26248493, 0.28028378, 0.77452997, 0.81619097,\n",
       "       0.4374691 , 0.32296376, 0.31897508, 0.38935643, 0.33523203,\n",
       "       0.31852973, 0.23362744, 0.30385511, 0.27619431, 0.2860604 ,\n",
       "       0.14429221, 0.33566481, 0.42635903, 0.39829861, 0.4146935 ,\n",
       "       0.30668759, 0.32932814, 0.37654139, 0.26868495, 0.37590391,\n",
       "       0.66802749, 0.68711075, 0.30449376, 0.36686464, 0.36274514,\n",
       "       0.422496  , 0.36329644, 0.93091512, 0.43517797, 0.96170344,\n",
       "       0.33523203, 0.25137617, 0.36295987, 0.35459273, 0.33647877,\n",
       "       0.93294345, 0.77502061, 0.76456707, 0.31242633, 0.54300276,\n",
       "       0.69820413, 0.97904475, 0.36795509, 0.33583766, 0.26121418,\n",
       "       0.34899517, 0.36033889, 0.20784536, 0.91197977, 0.74383185,\n",
       "       0.373721  , 0.34247338, 0.3411606 , 0.40934435, 0.10613834,\n",
       "       0.81170753, 0.15579707, 0.30498719, 0.31194492, 0.66787996,\n",
       "       0.25137617, 0.3065821 , 0.86131043, 0.30283982, 0.7880689 ,\n",
       "       0.33583766, 0.50862308, 0.78448416, 0.23462968, 0.33828969,\n",
       "       0.54229313, 0.96545916, 0.3573691 , 0.37801567, 0.30498719,\n",
       "       0.38500168, 0.28047836, 0.29384717, 0.48795117, 0.25310549,\n",
       "       0.37540519, 0.45588619, 0.36238196, 0.31945518, 0.33305576,\n",
       "       0.34253661, 0.61430903, 0.29258231, 0.33576868, 0.33576868,\n",
       "       0.34439316, 0.334062  , 0.27469622, 0.28804281, 0.29153293,\n",
       "       0.3201363 , 0.32691454, 0.33307314, 0.33523203, 0.64119719,\n",
       "       0.48626168, 0.31872537, 0.39829861, 0.86711034, 0.34361117,\n",
       "       0.58763706, 0.373721  , 0.96528711, 0.37346272, 0.39707135,\n",
       "       0.95237273, 0.61013906, 0.31007168, 0.39767455, 0.33583766,\n",
       "       0.697719  , 0.32954956, 0.30498719, 0.33514568, 0.43051474,\n",
       "       0.73230858, 0.38307655, 0.20152197, 0.74682516, 0.44640201,\n",
       "       0.37610411, 0.31615559, 0.29369011, 0.38099138, 0.35587292,\n",
       "       0.26756032, 0.34982444, 0.31293554, 0.2928816 , 0.39394604,\n",
       "       0.27625327, 0.20333408, 0.50122355, 0.38298497, 0.21322326,\n",
       "       0.33583766, 0.33153989, 0.58711121, 0.30385511, 0.23956372,\n",
       "       0.33647877, 0.34146872, 0.47339766, 0.34388784, 0.58372574,\n",
       "       0.33583766, 0.38280139, 0.32918055, 0.30654195, 0.39844021,\n",
       "       0.33315923, 0.33351648, 0.48047756, 0.33523203, 0.31057011,\n",
       "       0.41718287, 0.29384717, 0.24846299, 0.40840127, 0.31289636,\n",
       "       0.83993299, 0.37929425, 0.31424004, 0.95372784, 0.32690837,\n",
       "       0.24994941, 0.39767754, 0.28028378, 0.3573691 , 0.3367388 ,\n",
       "       0.83074346, 0.51762293, 0.37472641, 0.40309697, 0.27461491,\n",
       "       0.32907756, 0.30901449, 0.40824961, 0.46546208, 0.33647877,\n",
       "       0.32926613, 0.1931264 , 0.44757488, 0.21674413, 0.33523203,\n",
       "       0.28363603, 0.29803552, 0.33754664, 0.23524119, 0.33647877,\n",
       "       0.2701758 , 0.30385511, 0.23805808, 0.33512824, 0.43370609,\n",
       "       0.33315923, 0.27614039, 0.34897724, 0.3955566 , 0.38507121,\n",
       "       0.53489691, 0.27625327, 0.25444014, 0.37490263, 0.5650848 ,\n",
       "       0.27947201, 0.30385511, 0.20909514, 0.15621837, 0.64771308,\n",
       "       0.21322326, 0.57268667, 0.23796259, 0.323389  , 0.44377654,\n",
       "       0.30901449, 0.38067622, 0.25727982, 0.23508772, 0.38419643,\n",
       "       0.36363272, 0.38028836, 0.36640378, 0.87212308, 0.36231457,\n",
       "       0.41534002, 0.38287491, 0.33473066, 0.28560081, 0.75729012,\n",
       "       0.75919593, 0.42350159, 0.41718287, 0.39907055, 0.57023054,\n",
       "       0.32866649, 0.33647877, 0.3598308 , 0.30156985, 0.36102419,\n",
       "       0.31914599, 0.3076724 , 0.40635275, 0.28309065, 0.3099553 ,\n",
       "       0.70136252, 0.37654139, 0.33305576, 0.4674474 , 0.33307314,\n",
       "       0.25832216, 0.21674413, 0.9645317 , 0.26756032, 0.25539228,\n",
       "       0.54229313, 0.33307314, 0.34881425, 0.44318949, 0.32589098,\n",
       "       0.61444476, 0.30202481, 0.74924743, 0.36381252, 0.61185085,\n",
       "       0.60853683, 0.29101341, 0.27894877, 0.30773013, 0.53860493,\n",
       "       0.19616121, 0.39511616, 0.36106794, 0.29937894, 0.54790725,\n",
       "       0.85154616, 0.42189756, 0.33556095, 0.37361199, 0.37601318,\n",
       "       0.20734566, 0.26287347, 0.96801728, 0.51840859, 0.25172931,\n",
       "       0.33523203, 0.26169306, 0.35951131, 0.33647877, 0.33647877,\n",
       "       0.27766203, 0.39761029, 0.47563761, 0.33307314, 0.30978956,\n",
       "       0.16246091, 0.21323626, 0.36026009, 0.33523203, 0.41976525,\n",
       "       0.42741931, 0.31768183, 0.38676478, 0.28754063, 0.31007168,\n",
       "       0.39248765, 0.65826706, 0.24705373, 0.42109266, 0.33924006,\n",
       "       0.75680808, 0.24748343, 0.36436427, 0.37721608, 0.33647877,\n",
       "       0.28832945, 0.39433895, 0.22158197, 0.37744725, 0.2771206 ,\n",
       "       0.29493372, 0.44665934, 0.18988432, 0.33305576, 0.32347873,\n",
       "       0.30770283, 0.33583766, 0.49024013, 0.23998824, 0.36781534,\n",
       "       0.24529263, 0.3227607 , 0.44246887, 0.4899508 , 0.84222713,\n",
       "       0.38718015, 0.33233191, 0.29153293, 0.33523203, 0.29187862,\n",
       "       0.58344711, 0.27012658, 0.30628246, 0.5012103 , 0.36027642,\n",
       "       0.29362813, 0.35158253, 0.36482574, 0.38333372, 0.42023884,\n",
       "       0.23078646, 0.18884602, 0.69650306, 0.34917128, 0.3351627 ,\n",
       "       0.14067979, 0.2012422 , 0.40632344, 0.30385511, 0.35305891,\n",
       "       0.3573691 , 0.31007168, 0.33528472, 0.49651665, 0.29384717,\n",
       "       0.39035633, 0.64119719, 0.40170436, 0.55566259, 0.43370609,\n",
       "       0.41597331, 0.39761029, 0.26960915, 0.33440214, 0.36811676,\n",
       "       0.33583766, 0.49692333, 0.38588739, 0.33556095, 0.39959031,\n",
       "       0.49084119, 0.33583766, 0.28612658, 0.39203541, 0.64047744,\n",
       "       0.57791854, 0.25928556, 0.28601419, 0.2836942 , 0.3116916 ,\n",
       "       0.43204844, 0.37801567, 0.33533584, 0.24542994, 0.44820837,\n",
       "       0.32887061, 0.42635598, 0.13274654, 0.33723878, 0.30385511,\n",
       "       0.40418067, 0.35999176, 0.4134866 , 0.45155511, 0.99981062,\n",
       "       0.33684284, 0.652525  , 0.39645094, 0.25065555, 0.21325001,\n",
       "       0.46778858, 0.27410819, 0.40780514, 0.404274  , 0.97302415,\n",
       "       0.44928043, 0.55568018, 0.55566259, 0.35306941, 0.2172465 ,\n",
       "       0.21618083, 0.23998824, 0.3351627 , 0.58892116, 0.249556  ,\n",
       "       0.96637886, 0.36667886, 0.45722351, 0.35527136, 0.27464413,\n",
       "       0.33843477, 0.2533525 , 0.32000629, 0.89772459, 0.30990192,\n",
       "       0.55273929, 0.41718287, 0.31001269, 0.33583089, 0.21460651,\n",
       "       0.39651393, 0.95746576, 0.3534812 , 0.36813561, 0.30318299,\n",
       "       0.62931836, 0.32747564, 0.31768183, 0.22475574, 0.46062904,\n",
       "       0.39394604, 0.17651373, 0.33518013, 0.35354313, 0.28084789,\n",
       "       0.95601204, 0.50608775, 0.30385511, 0.39203541, 0.39203541,\n",
       "       0.3672928 , 0.29899078, 0.9997984 , 0.33583766, 0.33583766,\n",
       "       0.43288962, 0.51386546, 0.97714279, 0.31900627, 0.31644085,\n",
       "       0.26789651, 0.41288417, 0.34388784, 0.51975186, 0.31573602,\n",
       "       0.51361398, 0.53665625, 0.31001536, 0.36961664, 0.4076625 ,\n",
       "       0.49867422, 0.33542222, 0.42099886, 0.29803552, 0.65352135,\n",
       "       0.36381252, 0.25328738, 0.38758875, 0.73230858, 0.41851786,\n",
       "       0.40005207, 0.47721285, 0.318943  , 0.32589935, 0.31181812,\n",
       "       0.36968206, 0.218433  , 0.18362269, 0.33305576, 0.22414327,\n",
       "       0.40406851, 0.33523203, 0.52108427, 0.33518013, 0.94027715,\n",
       "       0.43777244, 0.55253661, 0.42563606, 0.36456265, 0.35232504,\n",
       "       0.3531758 , 0.4029286 , 0.27031486, 0.54741205, 0.52838203,\n",
       "       0.33523203, 0.50267315, 0.10613834, 0.43607485, 0.35592926,\n",
       "       0.28649208, 0.27534513, 0.31950473, 0.32005196, 0.33316677,\n",
       "       0.31768183, 0.33528472, 0.85151735, 0.55930698, 0.33862069,\n",
       "       0.31583666, 0.23963382, 0.40418067, 0.28649208, 0.41691396,\n",
       "       0.34913614, 0.33076106, 0.30140189, 0.30967373, 0.32015834,\n",
       "       0.30385511, 0.36974341, 0.38130445, 0.2399513 , 0.34632612,\n",
       "       0.48670653, 0.34569725, 0.24507008, 0.38346503, 0.35010233,\n",
       "       0.33191864, 0.55566259, 0.69931591, 0.33523203, 0.41455588,\n",
       "       0.3722587 , 0.51727868, 0.33307314, 0.36943607, 0.4065384 ,\n",
       "       0.53470198, 0.38689984, 0.33647877, 0.52626268, 0.43151797,\n",
       "       0.39067029, 0.43092192, 0.42295492, 0.28873894, 0.41534002,\n",
       "       0.24920724, 0.10613834, 0.29128518, 0.46952063, 0.61854643,\n",
       "       0.32247293, 0.11444814, 0.44077003, 0.58721385, 0.23757128,\n",
       "       0.43373644, 0.81513256, 0.26594026, 0.48114747, 0.33307314,\n",
       "       0.16158216, 0.31968416, 0.28129182, 0.10613834, 0.38500168,\n",
       "       0.26868495, 0.29133068, 0.50574169, 0.34253661, 0.45844077,\n",
       "       0.34917128, 0.3389407 , 0.29237277, 0.22725673, 0.32528569,\n",
       "       0.42323667, 0.39922177, 0.39761029, 0.33583766, 0.49585836,\n",
       "       0.45917484, 0.30365868, 0.38807196, 0.34674467, 0.35232504,\n",
       "       0.4621946 , 0.36419696, 0.49909882, 0.36456265, 0.44748034,\n",
       "       0.30937461])"
      ]
     },
     "execution_count": 6,
     "metadata": {},
     "output_type": "execute_result"
    }
   ],
   "source": [
    "log_reg.predict()"
   ]
  },
  {
   "cell_type": "code",
   "execution_count": null,
   "metadata": {},
   "outputs": [],
   "source": []
  }
 ],
 "metadata": {
  "kernelspec": {
   "display_name": "Python (PythonAdv)",
   "language": "python",
   "name": "pythonadv"
  },
  "language_info": {
   "codemirror_mode": {
    "name": "ipython",
    "version": 3
   },
   "file_extension": ".py",
   "mimetype": "text/x-python",
   "name": "python",
   "nbconvert_exporter": "python",
   "pygments_lexer": "ipython3",
   "version": "3.7.6"
  }
 },
 "nbformat": 4,
 "nbformat_minor": 4
}
