{
 "cells": [
  {
   "cell_type": "code",
   "execution_count": null,
   "metadata": {},
   "outputs": [],
   "source": [
    "# importing libraries\n",
    "import pandas as pd\n",
    "import numpy as np"
   ]
  },
  {
   "cell_type": "code",
   "execution_count": null,
   "metadata": {},
   "outputs": [],
   "source": [
    "training_csv = 'train.csv'\n",
    "test_csv = 'test.csv'\n",
    "\n",
    "no_touch_train = pd.read_csv(training_csv)\n",
    "no_touch_test = pd.read_csv(test_csv)\n",
    "\n",
    "training_data = no_touch_train\n",
    "testing_data = no_touch_test\n",
    "\n",
    "training_data.head(2)\n"
   ]
  },
  {
   "cell_type": "code",
   "execution_count": null,
   "metadata": {},
   "outputs": [],
   "source": [
    "no_touch_test.head(2)"
   ]
  },
  {
   "cell_type": "code",
   "execution_count": null,
   "metadata": {},
   "outputs": [],
   "source": [
    "training_data['Name_title'] = training_data.Name.apply(lambda x: x.split(',')[1].split('.')[0].strip())\n",
    "testing_data['Name_title'] = testing_data.Name.apply(lambda x: x.split(',')[1].split('.')[0].strip())\n",
    "\n",
    "training_data['Title_num'] = training_data.Name.apply(lambda x: x.split(',')[1].split('.')[0].strip())\n",
    "testing_data['Title_num'] = testing_data.Name.apply(lambda x: x.split(',')[1].split('.')[0].strip())\n",
    "\n",
    "training_data['Title_num'] = training_data['Title_num'].replace('Mr',1)\n",
    "training_data['Title_num'] = training_data['Title_num'].replace('Mrs',2)\n",
    "training_data['Title_num'] = training_data['Title_num'].replace(['Miss','Mlle','Ms','Mme'],3)\n",
    "training_data['Title_num'] = training_data['Title_num'].replace(['Major','Col','Capt'],4)\n",
    "training_data['Title_num'] = training_data['Title_num'].replace(['Kelly, Mr. James','Master','Don','Rev','Dr','Lady','Sir','the Countess','Jonkheer','Dona'],5)\n",
    "# training_data.head(1)\n",
    "\n",
    "testing_data['Title_num'] = testing_data['Title_num'].replace('Mr',1)\n",
    "testing_data['Title_num'] = testing_data['Title_num'].replace('Mrs',2)\n",
    "testing_data['Title_num'] = testing_data['Title_num'].replace(['Miss','Mlle','Ms','Mme'],3)\n",
    "testing_data['Title_num'] = testing_data['Title_num'].replace(['Major','Col','Capt'],4)\n",
    "testing_data['Title_num'] = testing_data['Title_num'].replace(['Kelly, Mr. James','Master','Don','Rev','Dr','Lady','Sir','the Countess','Jonkheer','Dona'],5)\n",
    "testing_data.head(1)\n",
    "\n",
    "# making sex binary\n",
    "training_data['Sex_binary'] = [0 if x == 'male' else 1 for x in training_data['Sex']]\n",
    "# making sex binary\n",
    "testing_data['Sex_binary'] = [0 if x == 'male' else 1 for x in testing_data['Sex']]\n",
    "\n",
    "# adding age for mean and median\n",
    "train_mean = training_data.Age.mean()\n",
    "train_median = training_data.Age.median()\n",
    "\n",
    "training_data[\"Age_imp_median\"] = training_data.Age.fillna(train_median)\n",
    "training_data[\"Age_imp_mean\"] = training_data.Age.fillna(train_mean)\n",
    "\n",
    "# adding age for mean and median\n",
    "test_mean = testing_data.Age.mean()\n",
    "test_median = testing_data.Age.median()\n",
    "\n",
    "testing_data[\"Age_imp_median\"] = testing_data.Age.fillna(test_median)\n",
    "testing_data[\"Age_imp_mean\"] = testing_data.Age.fillna(test_mean)\n",
    "\n",
    "# cleaning cabin - moving to decks\n",
    "training_data['Cabin_decks'] = training_data['Cabin'].str.replace('\\d+','')\n",
    "training_data['Cabin_decks'] = training_data['Cabin_decks'].replace(['NaN'],'N')\n",
    "\n",
    "testing_data['Cabin_decks'] = testing_data['Cabin'].str.replace('\\d+','')\n",
    "testing_data['Cabin_decks'] = testing_data['Cabin_decks'].replace(['NaN'],'N')"
   ]
  },
  {
   "cell_type": "code",
   "execution_count": null,
   "metadata": {},
   "outputs": [],
   "source": [
    "testing_data.head(2)"
   ]
  },
  {
   "cell_type": "code",
   "execution_count": null,
   "metadata": {},
   "outputs": [],
   "source": [
    "testing_data.Name_title.unique()"
   ]
  },
  {
   "cell_type": "code",
   "execution_count": null,
   "metadata": {},
   "outputs": [],
   "source": [
    "corr = testing_data.corr()\n",
    "corr "
   ]
  },
  {
   "cell_type": "code",
   "execution_count": null,
   "metadata": {},
   "outputs": [],
   "source": [
    "from sklearn.model_selection import train_test_split\n",
    "\n",
    "wanted_features = training_data[['SibSp','Parch','Fare','Title_num',\\\n",
    "            'Sex_binary','Age_imp_median']]\n",
    "target = training_data.Survived\n",
    "\n",
    "test_want = testing_data[[\"PassengerId\",'SibSp','Parch','Fare','Title_num',\\\n",
    "            'Sex_binary','Age_imp_median']]\n",
    "\n",
    "# Creating X and y\n",
    "X = training_data[['SibSp','Parch','Fare','Title_num',\\\n",
    "            'Sex_binary','Age_imp_median']]\n",
    "# X = wanted_features[['Sex_binary','Title_num']]\n",
    "y = training_data.Survived\n",
    "\n",
    "# use train_test_splie to create training and testing data \n",
    "X_train, X_test, y_train, y_test = train_test_split(X, y, random_state=42)"
   ]
  },
  {
   "cell_type": "code",
   "execution_count": null,
   "metadata": {},
   "outputs": [],
   "source": [
    "# Random Forests\n",
    "from sklearn.ensemble import RandomForestClassifier\n",
    "from sklearn.metrics import accuracy_score  #for accuracy_score\n",
    "from sklearn.model_selection import KFold #for K-fold cross validation\n",
    "from sklearn.model_selection import cross_val_score #score evaluation\n",
    "from sklearn.model_selection import cross_val_predict #prediction\n",
    "from sklearn.metrics import confusion_matrix #for confusion matrix\n",
    "import seaborn as sns\n",
    "import matplotlib.pyplot as plt\n",
    "\n",
    "\n",
    "model = RandomForestClassifier(criterion='gini', n_estimators=700,\n",
    "                             min_samples_split=10,min_samples_leaf=1,\n",
    "                             max_features='auto',oob_score=True,\n",
    "                             random_state=1,n_jobs=-1)\n",
    "model.fit(X_train,y_train)\n",
    "prediction_rm=model.predict(X_test)\n",
    "print('--------------The Accuracy of the model----------------------------')\n",
    "print('The accuracy of the Random Forest Classifier is',round(accuracy_score(prediction_rm,y_test)*100,2))\n",
    "kfold = KFold(n_splits=10, random_state=22) # k=10, split the data into 10 equal parts\n",
    "result_rm=cross_val_score(model,wanted_features,target,cv=10,scoring='accuracy')\n",
    "print('The cross validated score for Random Forest Classifier is:',round(result_rm.mean()*100,2))\n",
    "y_pred = cross_val_predict(model,wanted_features,target,cv=10)\n",
    "sns.heatmap(confusion_matrix(target,y_pred),annot=True,fmt='3.0f',cmap=\"summer\")\n",
    "plt.title('Confusion_matrix', y=1.05, size=15)"
   ]
  },
  {
   "cell_type": "code",
   "execution_count": null,
   "metadata": {},
   "outputs": [],
   "source": [
    "testdf = testing_data[[\"PassengerId\",'SibSp','Parch','Fare','Title_num',\\\n",
    "            'Sex_binary','Age_imp_median']]\n",
    "testdf = pd.get_dummies(testdf, columns = ['SibSp','Parch','Fare','Title_num',\\\n",
    "                                           'Sex_binary','Age_imp_median'],\n",
    "                             prefix=['SibSp','Parch','Fare','Title_num',\\\n",
    "            'Sex_binary','Age_imp_median'])\n",
    "testdf.head(2)"
   ]
  },
  {
   "cell_type": "code",
   "execution_count": null,
   "metadata": {},
   "outputs": [],
   "source": [
    "# testing_data.drop('Name',axis=1,inplace=True)\n",
    "testing_data.replace([np.inf, -np.inf], np.nan, inplace=True)\n"
   ]
  },
  {
   "cell_type": "code",
   "execution_count": null,
   "metadata": {},
   "outputs": [],
   "source": [
    "testing_data.isin(['NaN']).any()\n",
    "np.any(np.isnan(test_want))\n",
    "test_want = test_want.reset_index()"
   ]
  },
  {
   "cell_type": "code",
   "execution_count": null,
   "metadata": {},
   "outputs": [],
   "source": [
    "# testing_data.drop(testing_data.loc[testing_data['Name']=='Kelly, Mr. James'].index, inplace=True)\n",
    "# testing_data.drop(testing_data.loc[testing_data['Name']=='Wilkes, Mrs. James (Ellen Needs)'].index, inplace=True)\n",
    "# testing_data.drop(testing_data.loc[testing_data['Name']=='Myles, Mr. Thomas Francis'].index, inplace=True)\n",
    "# testing_data.drop(testing_data.loc[testing_data['Name']=='Wirz, Mr. Albert'].index, inplace=True)\n",
    "# # testing_data.drop(testing_data.loc[testing_data['Name']==].index, inplace=True)\n",
    "# # testing_data.drop(testing_data.loc[testing_data['Name']==].index, inplace=True)\n",
    "# # testing_data.drop(testing_data.loc[testing_data['Name']==].index, inplace=True)\n",
    "# # testing_data.drop(testing_data.loc[testing_data['Name']==].index, inplace=True)"
   ]
  },
  {
   "cell_type": "code",
   "execution_count": null,
   "metadata": {},
   "outputs": [],
   "source": [
    "test_X  = test_want.drop(\"PassengerId\", axis=1).copy()\n",
    "Y_pred_rf = model.predict(test_X)"
   ]
  },
  {
   "cell_type": "code",
   "execution_count": null,
   "metadata": {},
   "outputs": [],
   "source": [
    "submission = pd.DataFrame({\n",
    "        \"PassengerId\": testing_data[\"PassengerId\"],\n",
    "        \"Survived\": Y_pred_rf})"
   ]
  },
  {
   "cell_type": "code",
   "execution_count": null,
   "metadata": {},
   "outputs": [],
   "source": []
  }
 ],
 "metadata": {
  "kernelspec": {
   "display_name": "Python [conda env:PythonData] *",
   "language": "python",
   "name": "conda-env-PythonData-py"
  },
  "language_info": {
   "codemirror_mode": {
    "name": "ipython",
    "version": 3
   },
   "file_extension": ".py",
   "mimetype": "text/x-python",
   "name": "python",
   "nbconvert_exporter": "python",
   "pygments_lexer": "ipython3",
   "version": "3.6.10"
  }
 },
 "nbformat": 4,
 "nbformat_minor": 4
}
